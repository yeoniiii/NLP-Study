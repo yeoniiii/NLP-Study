{
 "cells": [
  {
   "cell_type": "markdown",
   "metadata": {},
   "source": [
    "# Konlpy"
   ]
  },
  {
   "cell_type": "code",
   "execution_count": 2,
   "metadata": {},
   "outputs": [
    {
     "name": "stdout",
     "output_type": "stream",
     "text": [
      "Collecting konlpy\n",
      "  Using cached konlpy-0.6.0-py2.py3-none-any.whl (19.4 MB)\n",
      "Collecting lxml>=4.1.0\n",
      "  Downloading lxml-5.1.0-cp38-cp38-macosx_10_9_universal2.whl (6.2 MB)\n",
      "\u001b[2K     \u001b[90m━━━━━━━━━━━━━━━━━━━━━━━━━━━━━━━━━━━━━━━━\u001b[0m \u001b[32m6.2/6.2 MB\u001b[0m \u001b[31m14.9 MB/s\u001b[0m eta \u001b[36m0:00:00\u001b[0m00:01\u001b[0m00:01\u001b[0m\n",
      "\u001b[?25hRequirement already satisfied: numpy>=1.6 in /opt/homebrew/Caskroom/miniforge/base/envs/yeonii/lib/python3.8/site-packages (from konlpy) (1.23.2)\n",
      "Collecting JPype1>=0.7.0\n",
      "  Downloading JPype1-1.5.0.tar.gz (819 kB)\n",
      "\u001b[2K     \u001b[90m━━━━━━━━━━━━━━━━━━━━━━━━━━━━━━━━━━━━━━━\u001b[0m \u001b[32m819.1/819.1 kB\u001b[0m \u001b[31m9.2 MB/s\u001b[0m eta \u001b[36m0:00:00\u001b[0m00:01\u001b[0m00:01\u001b[0m\n",
      "\u001b[?25h  Installing build dependencies ... \u001b[?25ldone\n",
      "\u001b[?25h  Getting requirements to build wheel ... \u001b[?25ldone\n",
      "\u001b[?25h  Preparing metadata (pyproject.toml) ... \u001b[?25ldone\n",
      "\u001b[?25hRequirement already satisfied: packaging in /opt/homebrew/Caskroom/miniforge/base/envs/yeonii/lib/python3.8/site-packages (from JPype1>=0.7.0->konlpy) (21.3)\n",
      "Requirement already satisfied: pyparsing!=3.0.5,>=2.0.2 in /opt/homebrew/Caskroom/miniforge/base/envs/yeonii/lib/python3.8/site-packages (from packaging->JPype1>=0.7.0->konlpy) (3.0.9)\n",
      "Building wheels for collected packages: JPype1\n",
      "  Building wheel for JPype1 (pyproject.toml) ... \u001b[?25ldone\n",
      "\u001b[?25h  Created wheel for JPype1: filename=JPype1-1.5.0-cp38-cp38-macosx_11_0_arm64.whl size=367292 sha256=1e3d846817fe97ffbb66c9f2d99e63709e96f01457026684f34cf0e76e3e692c\n",
      "  Stored in directory: /Users/yeorii/Library/Caches/pip/wheels/45/dd/8a/6db4eb34996ba17188013abcdb4375b6f1cc7cf6d07d4c427d\n",
      "Successfully built JPype1\n",
      "Installing collected packages: lxml, JPype1, konlpy\n",
      "Successfully installed JPype1-1.5.0 konlpy-0.6.0 lxml-5.1.0\n"
     ]
    }
   ],
   "source": [
    "!pip install konlpy"
   ]
  },
  {
   "cell_type": "code",
   "execution_count": 3,
   "metadata": {},
   "outputs": [],
   "source": [
    "import konlpy"
   ]
  },
  {
   "cell_type": "code",
   "execution_count": 4,
   "metadata": {},
   "outputs": [
    {
     "name": "stdout",
     "output_type": "stream",
     "text": [
      "[0.015s][warning][os,thread] Attempt to protect stack guard pages failed (0x000000016ba3c000-0x000000016ba48000).\n",
      "[0.015s][warning][os,thread] Attempt to deallocate stack guard pages failed.\n"
     ]
    }
   ],
   "source": [
    "from konlpy.tag import Okt\n",
    "okt = Okt()"
   ]
  },
  {
   "cell_type": "code",
   "execution_count": 5,
   "metadata": {},
   "outputs": [],
   "source": [
    "from konlpy.tag import Okt\n",
    "\n",
    "JVM_PATH = '/Library/Java/JavaVirtualMachines/zulu-15.jdk/Contents/Home/bin/java'\n",
    "okt = Okt(jvmpath=JVM_PATH)"
   ]
  },
  {
   "cell_type": "code",
   "execution_count": 6,
   "metadata": {},
   "outputs": [
    {
     "name": "stdout",
     "output_type": "stream",
     "text": [
      "['고려대학교', '에', '오신', '걸', '환영', '합니다']\n"
     ]
    }
   ],
   "source": [
    "import konlpy\n",
    "from konlpy.tag import Kkma, Komoran, Okt, Hannanum\n",
    "\n",
    "okt = Okt()\n",
    "text = '고려대학교에 오신 걸 환영합니다'\n",
    "\n",
    "print(okt.morphs(text))"
   ]
  },
  {
   "cell_type": "markdown",
   "metadata": {},
   "source": [
    "# Hanja"
   ]
  },
  {
   "cell_type": "code",
   "execution_count": 1,
   "metadata": {},
   "outputs": [
    {
     "name": "stdout",
     "output_type": "stream",
     "text": [
      "Requirement already satisfied: hanja in /opt/homebrew/Caskroom/miniforge/base/envs/yeonii/lib/python3.8/site-packages (0.13.3)\n",
      "Requirement already satisfied: coveralls in /opt/homebrew/Caskroom/miniforge/base/envs/yeonii/lib/python3.8/site-packages (from hanja) (3.3.1)\n",
      "Requirement already satisfied: pytest in /opt/homebrew/Caskroom/miniforge/base/envs/yeonii/lib/python3.8/site-packages (from hanja) (8.0.0)\n",
      "Requirement already satisfied: pytest-cov in /opt/homebrew/Caskroom/miniforge/base/envs/yeonii/lib/python3.8/site-packages (from hanja) (4.1.0)\n",
      "Requirement already satisfied: pyyaml==5.1.2 in /opt/homebrew/Caskroom/miniforge/base/envs/yeonii/lib/python3.8/site-packages (from hanja) (5.1.2)\n",
      "Requirement already satisfied: requests>=1.0.0 in /opt/homebrew/Caskroom/miniforge/base/envs/yeonii/lib/python3.8/site-packages (from coveralls->hanja) (2.28.1)\n",
      "Requirement already satisfied: coverage!=6.0.*,!=6.1,!=6.1.1,<7.0,>=4.1 in /opt/homebrew/Caskroom/miniforge/base/envs/yeonii/lib/python3.8/site-packages (from coveralls->hanja) (6.5.0)\n",
      "Requirement already satisfied: docopt>=0.6.1 in /opt/homebrew/Caskroom/miniforge/base/envs/yeonii/lib/python3.8/site-packages (from coveralls->hanja) (0.6.2)\n",
      "Requirement already satisfied: tomli>=1.0.0 in /opt/homebrew/Caskroom/miniforge/base/envs/yeonii/lib/python3.8/site-packages (from pytest->hanja) (2.0.1)\n",
      "Requirement already satisfied: pluggy<2.0,>=1.3.0 in /opt/homebrew/Caskroom/miniforge/base/envs/yeonii/lib/python3.8/site-packages (from pytest->hanja) (1.4.0)\n",
      "Requirement already satisfied: iniconfig in /opt/homebrew/Caskroom/miniforge/base/envs/yeonii/lib/python3.8/site-packages (from pytest->hanja) (2.0.0)\n",
      "Requirement already satisfied: packaging in /opt/homebrew/Caskroom/miniforge/base/envs/yeonii/lib/python3.8/site-packages (from pytest->hanja) (21.3)\n",
      "Requirement already satisfied: exceptiongroup>=1.0.0rc8 in /opt/homebrew/Caskroom/miniforge/base/envs/yeonii/lib/python3.8/site-packages (from pytest->hanja) (1.2.0)\n",
      "Requirement already satisfied: idna<4,>=2.5 in /opt/homebrew/Caskroom/miniforge/base/envs/yeonii/lib/python3.8/site-packages (from requests>=1.0.0->coveralls->hanja) (3.4)\n",
      "Requirement already satisfied: charset-normalizer<3,>=2 in /opt/homebrew/Caskroom/miniforge/base/envs/yeonii/lib/python3.8/site-packages (from requests>=1.0.0->coveralls->hanja) (2.1.1)\n",
      "Requirement already satisfied: certifi>=2017.4.17 in /opt/homebrew/Caskroom/miniforge/base/envs/yeonii/lib/python3.8/site-packages (from requests>=1.0.0->coveralls->hanja) (2022.9.24)\n",
      "Requirement already satisfied: urllib3<1.27,>=1.21.1 in /opt/homebrew/Caskroom/miniforge/base/envs/yeonii/lib/python3.8/site-packages (from requests>=1.0.0->coveralls->hanja) (1.26.12)\n",
      "Requirement already satisfied: pyparsing!=3.0.5,>=2.0.2 in /opt/homebrew/Caskroom/miniforge/base/envs/yeonii/lib/python3.8/site-packages (from packaging->pytest->hanja) (3.0.9)\n"
     ]
    }
   ],
   "source": [
    "!pip install hanja"
   ]
  },
  {
   "cell_type": "markdown",
   "metadata": {},
   "source": [
    "# Mecab"
   ]
  },
  {
   "cell_type": "code",
   "execution_count": 8,
   "metadata": {},
   "outputs": [
    {
     "name": "stdout",
     "output_type": "stream",
     "text": [
      "Collecting mecab-ko\n",
      "  Downloading mecab-ko-1.0.1.tar.gz (75 kB)\n",
      "\u001b[2K     \u001b[90m━━━━━━━━━━━━━━━━━━━━━━━━━━━━━━━━━━━━━━━━\u001b[0m \u001b[32m75.9/75.9 kB\u001b[0m \u001b[31m3.9 MB/s\u001b[0m eta \u001b[36m0:00:00\u001b[0m\n",
      "\u001b[?25h  Preparing metadata (setup.py) ... \u001b[?25ldone\n",
      "\u001b[?25hCollecting mecab-ko-dic<2.0,>=1.0\n",
      "  Downloading mecab-ko-dic-1.0.0.tar.gz (33.2 MB)\n",
      "\u001b[2K     \u001b[90m━━━━━━━━━━━━━━━━━━━━━━━━━━━━━━━━━━━━━━━━\u001b[0m \u001b[32m33.2/33.2 MB\u001b[0m \u001b[31m23.5 MB/s\u001b[0m eta \u001b[36m0:00:00\u001b[0m00:01\u001b[0m00:01\u001b[0m\n",
      "\u001b[?25h  Preparing metadata (setup.py) ... \u001b[?25ldone\n",
      "\u001b[?25hBuilding wheels for collected packages: mecab-ko, mecab-ko-dic\n",
      "  Building wheel for mecab-ko (setup.py) ... \u001b[?25ldone\n",
      "\u001b[?25h  Created wheel for mecab-ko: filename=mecab_ko-1.0.1-cp38-cp38-macosx_11_0_arm64.whl size=39609 sha256=bef771ed953de8d1ca1f7c9867c48fa0bcf35bb86f92ca66b14f9b095c0264dd\n",
      "  Stored in directory: /Users/yeorii/Library/Caches/pip/wheels/35/97/c0/258ceec35f0f54458b459dd93679096d91beaf154ecac17ce4\n",
      "  Building wheel for mecab-ko-dic (setup.py) ... \u001b[?25ldone\n",
      "\u001b[?25h  Created wheel for mecab-ko-dic: filename=mecab_ko_dic-1.0.0-py3-none-any.whl size=33424393 sha256=c5ff93e585077e8e2005961895126a9056660a73898948476536db6b84d2c1ab\n",
      "  Stored in directory: /Users/yeorii/Library/Caches/pip/wheels/2b/5e/57/01dbe469bf5d9c212d0ccf3fe851151a1f2ff297bbe7402a5a\n",
      "Successfully built mecab-ko mecab-ko-dic\n",
      "Installing collected packages: mecab-ko-dic, mecab-ko\n",
      "Successfully installed mecab-ko-1.0.1 mecab-ko-dic-1.0.0\n"
     ]
    }
   ],
   "source": [
    "!pip install mecab-ko"
   ]
  },
  {
   "cell_type": "code",
   "execution_count": 2,
   "metadata": {},
   "outputs": [
    {
     "name": "stdout",
     "output_type": "stream",
     "text": [
      "Requirement already satisfied: mecab-python in /opt/homebrew/Caskroom/miniforge/base/envs/yeonii/lib/python3.8/site-packages (1.0.0)\n",
      "Requirement already satisfied: mecab-python3 in /opt/homebrew/Caskroom/miniforge/base/envs/yeonii/lib/python3.8/site-packages (from mecab-python) (1.0.8)\n"
     ]
    }
   ],
   "source": [
    "!pip install mecab-python"
   ]
  },
  {
   "cell_type": "code",
   "execution_count": 3,
   "metadata": {},
   "outputs": [
    {
     "name": "stdout",
     "output_type": "stream",
     "text": [
      "mecab-ko is already installed\n",
      "mecab-ko-dic is already installed\n",
      "mecab-python is already installed\n",
      "Done.\n"
     ]
    }
   ],
   "source": [
    "!bash <(curl -s https://raw.githubusercontent.com/konlpy/konlpy/master/scripts/mecab.sh)\n"
   ]
  },
  {
   "cell_type": "code",
   "execution_count": 10,
   "metadata": {},
   "outputs": [
    {
     "data": {
      "text/plain": [
       "['안녕', '하', '세요']"
      ]
     },
     "execution_count": 10,
     "metadata": {},
     "output_type": "execute_result"
    }
   ],
   "source": [
    "from konlpy.tag import Mecab\n",
    "mecab = Mecab()\n",
    "mecab.morphs(\"안녕하세요\")"
   ]
  },
  {
   "cell_type": "markdown",
   "metadata": {},
   "source": [
    "# Kss"
   ]
  },
  {
   "cell_type": "markdown",
   "metadata": {},
   "source": [
    "ㅠㅠ 눈물 난다 https://yeorii.tistory.com/entry/Mac-M1-anaconda-miniforge-switch 얘로 해결.."
   ]
  },
  {
   "cell_type": "code",
   "execution_count": 2,
   "metadata": {},
   "outputs": [],
   "source": [
    "import kss"
   ]
  },
  {
   "cell_type": "markdown",
   "metadata": {},
   "source": [
    "# Tensorflow 확인"
   ]
  },
  {
   "cell_type": "code",
   "execution_count": 11,
   "metadata": {},
   "outputs": [
    {
     "name": "stdout",
     "output_type": "stream",
     "text": [
      "Metal device set to: "
     ]
    },
    {
     "name": "stderr",
     "output_type": "stream",
     "text": [
      "2024-02-05 22:14:15.657209: I tensorflow/core/common_runtime/pluggable_device/pluggable_device_factory.cc:306] Could not identify NUMA node of platform GPU ID 0, defaulting to 0. Your kernel may not have been built with NUMA support.\n",
      "2024-02-05 22:14:15.657382: I tensorflow/core/common_runtime/pluggable_device/pluggable_device_factory.cc:272] Created TensorFlow device (/device:GPU:0 with 0 MB memory) -> physical PluggableDevice (device: 0, name: METAL, pci bus id: <undefined>)\n"
     ]
    },
    {
     "data": {
      "text/plain": [
       "[name: \"/device:CPU:0\"\n",
       " device_type: \"CPU\"\n",
       " memory_limit: 268435456\n",
       " locality {\n",
       " }\n",
       " incarnation: 18233771352309637687\n",
       " xla_global_id: -1,\n",
       " name: \"/device:GPU:0\"\n",
       " device_type: \"GPU\"\n",
       " locality {\n",
       "   bus_id: 1\n",
       " }\n",
       " incarnation: 3080368454812779675\n",
       " physical_device_desc: \"device: 0, name: METAL, pci bus id: <undefined>\"\n",
       " xla_global_id: -1]"
      ]
     },
     "execution_count": 11,
     "metadata": {},
     "output_type": "execute_result"
    },
    {
     "name": "stdout",
     "output_type": "stream",
     "text": [
      "Apple M1 Pro\n",
      "\n",
      "systemMemory: 16.00 GB\n",
      "maxCacheSize: 5.33 GB\n",
      "\n"
     ]
    }
   ],
   "source": [
    "from tensorflow.python.client import device_lib\n",
    "device_lib.list_local_devices()\n",
    "# 난 뭘해두 될 사람 ^_^"
   ]
  }
 ],
 "metadata": {
  "kernelspec": {
   "display_name": "Python 3.8.13",
   "language": "python",
   "name": "python3"
  },
  "language_info": {
   "codemirror_mode": {
    "name": "ipython",
    "version": 3
   },
   "file_extension": ".py",
   "mimetype": "text/x-python",
   "name": "python",
   "nbconvert_exporter": "python",
   "pygments_lexer": "ipython3",
   "version": "3.8.13"
  },
  "orig_nbformat": 4,
  "vscode": {
   "interpreter": {
    "hash": "3b09d487f58830ae36779bc7e2c4986ef97a22d0a201d00a8669188d9fddafca"
   }
  }
 },
 "nbformat": 4,
 "nbformat_minor": 2
}
